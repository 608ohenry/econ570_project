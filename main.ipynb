{
 "cells": [
  {
   "cell_type": "code",
   "execution_count": 1,
   "metadata": {},
   "outputs": [
    {
     "name": "stdout",
     "output_type": "stream",
     "text": [
      "wow\n"
     ]
    }
   ],
   "source": [
    "print('wow')"
   ]
  },
  {
   "cell_type": "markdown",
   "metadata": {},
   "source": [
    "# Data Wrangling\n",
    "\n",
    "https://www.cbp.gov/newsroom/stats\n",
    "\n",
    "https://www.ice.gov/detain/detention-management\n",
    "\n",
    "https://www.uscis.gov/tools/reports-and-studies/immigration-and-citizenship-data\n",
    "\n",
    "https://ohss.dhs.gov/topics/immigration#other-resources \n"
   ]
  },
  {
   "cell_type": "markdown",
   "metadata": {},
   "source": [
    "# Ideas\n",
    "- Write about H1B, H2A, H2B, or other visas\n",
    "- Write about detained individual counts at the border\n",
    "- Write about detained individuals within the US\n",
    "- Forecast immigration data\n",
    "- Forecast impacts of policy changes"
   ]
  }
 ],
 "metadata": {
  "kernelspec": {
   "display_name": "econ570",
   "language": "python",
   "name": "python3"
  },
  "language_info": {
   "codemirror_mode": {
    "name": "ipython",
    "version": 3
   },
   "file_extension": ".py",
   "mimetype": "text/x-python",
   "name": "python",
   "nbconvert_exporter": "python",
   "pygments_lexer": "ipython3",
   "version": "3.10.16"
  }
 },
 "nbformat": 4,
 "nbformat_minor": 2
}
